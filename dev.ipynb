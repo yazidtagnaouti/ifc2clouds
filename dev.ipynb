{
 "cells": [
  {
   "cell_type": "markdown",
   "metadata": {},
   "source": [
    "## Importing libraries"
   ]
  },
  {
   "cell_type": "code",
   "execution_count": 1,
   "metadata": {},
   "outputs": [],
   "source": [
    "import ifcopenshell\n",
    "from ifcopenshell import geom\n",
    "import numpy as np\n",
    "import open3d as o3d"
   ]
  },
  {
   "cell_type": "markdown",
   "metadata": {},
   "source": [
    "## Loading IFC file"
   ]
  },
  {
   "cell_type": "code",
   "execution_count": 2,
   "metadata": {},
   "outputs": [],
   "source": [
    "ifc_file_path = \"test_data\\PN1833_05_EXE_BIM_000013_01_17IGR_SGO_Structure_ifc2x3.ifc\"\n",
    "\n",
    "ifc_data = ifcopenshell.open(ifc_file_path)\n",
    "settings = geom.settings()\n",
    "walls = ifc_data.by_type('IfcWall')"
   ]
  },
  {
   "cell_type": "markdown",
   "metadata": {},
   "source": [
    "## Extract geometry properties from an IFC entity"
   ]
  },
  {
   "cell_type": "code",
   "execution_count": 3,
   "metadata": {},
   "outputs": [],
   "source": [
    "def get_geom(settings, entity):\n",
    "    shape = geom.create_shape(settings, entity)\n",
    "\n",
    "    ios_vertices = shape.geometry.verts\n",
    "    ios_edges = shape.geometry.edges\n",
    "    ios_faces = shape.geometry.faces\n",
    "\n",
    "    # Grouping vertices by 3 (x,y,z), edges by 2 (edge1, edge2) and faces by 3 (vert1, vert2, vert3)\n",
    "    vertices = [tuple(ios_vertices[i : i + 3]) for i in range(0, len(ios_vertices), 3)]\n",
    "    edges = [ios_edges[i : i + 2] for i in range(0, len(ios_edges), 2)]\n",
    "    faces = [tuple(ios_faces[i : i + 3]) for i in range(0, len(ios_faces), 3)]\n",
    "\n",
    "    return {'vertices' : vertices, 'edges': edges, 'faces': faces}"
   ]
  },
  {
   "cell_type": "markdown",
   "metadata": {},
   "source": [
    "## Generate samples on faces and along edges"
   ]
  },
  {
   "cell_type": "code",
   "execution_count": 4,
   "metadata": {},
   "outputs": [],
   "source": [
    "def sample_edge(v1, v2, num_points=100):\n",
    "    \"\"\"Generate points along an edge.\"\"\"\n",
    "    return [tuple(v1 + t * (v2 - v1)) for t in np.linspace(0, 1, num_points)]\n",
    "\n",
    "def sample_face(v1, v2, v3, num_points=1000):\n",
    "    \"\"\"Generate points inside a triangular face using barycentric coordinates.\"\"\"\n",
    "    points = []\n",
    "    for _ in range(num_points):\n",
    "        r1, r2 = np.random.rand(), np.random.rand()\n",
    "        if r1 + r2 > 1:\n",
    "            r1, r2 = 1 - r1, 1 - r2\n",
    "        point = (1 - r1 - r2) * v1 + r1 * v2 + r2 * v3\n",
    "        points.append(tuple(point))\n",
    "    return points"
   ]
  },
  {
   "cell_type": "markdown",
   "metadata": {},
   "source": [
    "## Genrating the point cloud of an entity"
   ]
  },
  {
   "cell_type": "code",
   "execution_count": 5,
   "metadata": {},
   "outputs": [],
   "source": [
    "def generate_point_cloud(geometry, edge_samples=100, face_samples=1000):\n",
    "    vertices, edges, faces = geometry[\"vertices\"], geometry[\"edges\"], geometry[\"faces\"]\n",
    "    point_cloud = set(vertices)  # Start with vertices\n",
    "\n",
    "    # Sample edges\n",
    "    for edge in edges:\n",
    "        v1, v2 = np.array(vertices[edge[0]]), np.array(vertices[edge[1]])\n",
    "        point_cloud.update(sample_edge(v1, v2, edge_samples))\n",
    "\n",
    "    # Sample faces\n",
    "    for face in faces:\n",
    "        v1, v2, v3 = np.array(vertices[face[0]]), np.array(vertices[face[1]]), np.array(vertices[face[2]])\n",
    "        point_cloud.update(sample_face(v1, v2, v3, face_samples))\n",
    "\n",
    "    return list(point_cloud)"
   ]
  },
  {
   "cell_type": "markdown",
   "metadata": {},
   "source": [
    "## Visualize a point cloud"
   ]
  },
  {
   "cell_type": "code",
   "execution_count": 6,
   "metadata": {},
   "outputs": [],
   "source": [
    "def visualize_point_cloud_open3d(points):\n",
    "    \"\"\"Visualizes a 3D point cloud interactively using Open3D.\"\"\"\n",
    "    points = np.array(points)  # Convert list of tuples to NumPy array\n",
    "    pcd = o3d.geometry.PointCloud()\n",
    "    pcd.points = o3d.utility.Vector3dVector(points)\n",
    "\n",
    "    # Draw the point cloud\n",
    "    o3d.visualization.draw_geometries([pcd])"
   ]
  },
  {
   "cell_type": "markdown",
   "metadata": {},
   "source": [
    "## Testing on a random wall"
   ]
  },
  {
   "cell_type": "code",
   "execution_count": 7,
   "metadata": {},
   "outputs": [],
   "source": [
    "ifc_geometry = get_geom(settings=settings, entity=walls[244])\n",
    "point_cloud = generate_point_cloud(ifc_geometry, edge_samples=5, face_samples=25)\n",
    "visualize_point_cloud_open3d(point_cloud)"
   ]
  },
  {
   "cell_type": "markdown",
   "metadata": {},
   "source": [
    "## Getting global georeference from site"
   ]
  },
  {
   "cell_type": "code",
   "execution_count": 16,
   "metadata": {},
   "outputs": [],
   "source": [
    "def dms_to_decimal(dms_tuple):\n",
    "    \"\"\"Converts (Degrees, Minutes, Seconds, Millionths) to decimal degrees.\"\"\"\n",
    "    if not dms_tuple or len(dms_tuple) < 3:\n",
    "        return 0.0  # Default if data is missing\n",
    "    degrees, minutes, seconds, millionths = dms_tuple + (0,) * (4 - len(dms_tuple))\n",
    "    return degrees + minutes / 60 + (seconds + millionths / 1e6) / 3600\n",
    "\n",
    "def get_global_origin(ifc_file):\n",
    "    \"\"\"Extracts the global origin from IfcSite (latitude, longitude, elevation).\"\"\"\n",
    "    site = ifc_file.by_type(\"IfcSite\")\n",
    "    if site:\n",
    "        lat = dms_to_decimal(site[0].RefLatitude)\n",
    "        lon = dms_to_decimal(site[0].RefLongitude)\n",
    "        elev = site[0].RefElevation if site[0].RefElevation else 0.0\n",
    "\n",
    "        # print(f\"Latitude (Decimal): {lat}\")\n",
    "        # print(f\"Longitude (Decimal): {lon}\")\n",
    "        # print(f\"Elevation: {elev}\")\n",
    "\n",
    "        return np.array([lon, lat, elev])\n",
    "    \n",
    "    return np.array([0, 0, 0])  # Default (0,0,0) if no georeference found"
   ]
  },
  {
   "cell_type": "code",
   "execution_count": 15,
   "metadata": {},
   "outputs": [],
   "source": [
    "def get_wall_transformation(ifc_entity):\n",
    "    \"\"\"Extracts the transformation matrix of an IFC element.\"\"\"\n",
    "    if ifc_entity.ObjectPlacement:\n",
    "        placement = ifc_entity.ObjectPlacement.RelativePlacement\n",
    "        location = np.array([\n",
    "            placement.Location.Coordinates[0] if placement.Location else 0,\n",
    "            placement.Location.Coordinates[1] if placement.Location else 0,\n",
    "            placement.Location.Coordinates[2] if placement.Location else 0\n",
    "        ])\n",
    "        return location\n",
    "    return np.array([0, 0, 0])  # Default if no placement\n",
    "\n",
    "def transform_to_global(local_points, global_origin, wall_transform):\n",
    "    \"\"\"Transforms local points to global coordinates.\"\"\"\n",
    "    return [point + wall_transform + global_origin for point in local_points]"
   ]
  },
  {
   "cell_type": "code",
   "execution_count": null,
   "metadata": {},
   "outputs": [],
   "source": [
    "def process_ifc_walls(ifc_file):\n",
    "    \"\"\"Processes all walls in an IFC file and applies georeferencing with orientation.\"\"\"\n",
    "    global_origin = get_global_origin(ifc_file)\n",
    "    walls = ifc_file.by_type(\"IfcWall\")\n",
    "    \n",
    "    all_points = []\n",
    "    \n",
    "    for wall in walls:\n",
    "        ifc_geometry = get_geom(settings=settings, entity=wall)\n",
    "        local_points = generate_point_cloud(ifc_geometry, edge_samples=10, face_samples=100)\n",
    "        \n",
    "        # Get wall location and orientation (axis)\n",
    "        wall_location = get_wall_transformation(wall)\n",
    "        \n",
    "        # Transform local points to global points\n",
    "        global_points = transform_to_global(local_points, global_origin, wall_location)\n",
    "        \n",
    "        all_points.extend(global_points)\n",
    "    \n",
    "    return all_points"
   ]
  }
 ],
 "metadata": {
  "kernelspec": {
   "display_name": "ifc_processing",
   "language": "python",
   "name": "python3"
  },
  "language_info": {
   "codemirror_mode": {
    "name": "ipython",
    "version": 3
   },
   "file_extension": ".py",
   "mimetype": "text/x-python",
   "name": "python",
   "nbconvert_exporter": "python",
   "pygments_lexer": "ipython3",
   "version": "3.9.21"
  }
 },
 "nbformat": 4,
 "nbformat_minor": 2
}
